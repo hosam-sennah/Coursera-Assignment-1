{
 "cells": [
  {
   "cell_type": "markdown",
   "id": "c457190c-64fb-44da-84db-bdb6d1854aab",
   "metadata": {},
   "source": [
    "# Data Science Tools and Ecosystem"
   ]
  },
  {
   "cell_type": "markdown",
   "id": "81e28206-f959-493e-934e-df6ec3d3b780",
   "metadata": {},
   "source": [
    "## Author\n",
    "Hosam Sennah"
   ]
  },
  {
   "cell_type": "markdown",
   "id": "aa50c512-688c-496c-adae-ed5a3180535f",
   "metadata": {},
   "source": [
    "In this notebook, Data Science Tools and Ecosystem are summarized."
   ]
  },
  {
   "cell_type": "markdown",
   "id": "fffca734-340b-4776-ae8e-33557e439656",
   "metadata": {},
   "source": [
    "**Objectives:**\n",
    "-Listing popular \n",
    "- Creating a table\n",
    "- Ordered lists\n",
    "- Arithmetic expressions\n",
    "- Markdown headers\n",
    "- unordered lists"
   ]
  },
  {
   "cell_type": "markdown",
   "id": "77dee7be-750f-4cf7-8c74-2d8f4265b290",
   "metadata": {},
   "source": [
    "Some of the popular languages that Data Scientists use are:\n",
    "1. Python\n",
    "2. R\n",
    "3. Javascript\n",
    "4. SQL"
   ]
  },
  {
   "cell_type": "markdown",
   "id": "83fe1f01-b09b-4e78-a501-15e89a7cb4cb",
   "metadata": {},
   "source": [
    "Some of the commonly used libraries used by Data Scientists include:\n",
    "1. Matplotlib\n",
    "2. Pandas\n",
    "3. NumPy\n",
    "4. ggplot2"
   ]
  },
  {
   "cell_type": "markdown",
   "id": "b2a7aa29-d9f6-440c-bfdd-a5ef73a0a4e9",
   "metadata": {},
   "source": [
    "|Data Science Tools|\n",
    "|---------|\n",
    "|Hadoop|\n",
    "|Spark|\n",
    "|Jupiter Notebooks|\n",
    "|Visual Studio|"
   ]
  },
  {
   "cell_type": "markdown",
   "id": "1c976419-af07-4162-ae60-2601e9b2fe38",
   "metadata": {},
   "source": [
    "### Below are a few examples of evaluating arithmetic expressions in Python.\n",
    "y=3\n",
    "x=4\n",
    "z=y*x\n",
    "a=y/x\n",
    "b=z*a\n",
    "c=z+a-b/y"
   ]
  },
  {
   "cell_type": "code",
   "execution_count": 7,
   "id": "2d517691-49f8-4a4e-9ca6-2930c2d4517a",
   "metadata": {},
   "outputs": [
    {
     "data": {
      "text/plain": [
       "17"
      ]
     },
     "execution_count": 7,
     "metadata": {},
     "output_type": "execute_result"
    }
   ],
   "source": [
    "#This is a simple arithmetic expression to multiply then add integers\n",
    "(3*4)+5\n"
   ]
  },
  {
   "cell_type": "code",
   "execution_count": 8,
   "id": "9c26be6c-06cd-43c8-afbe-79c0e6d8a75a",
   "metadata": {},
   "outputs": [
    {
     "data": {
      "text/plain": [
       "3.3333333333333335"
      ]
     },
     "execution_count": 8,
     "metadata": {},
     "output_type": "execute_result"
    }
   ],
   "source": [
    "#This will convert 200 minutes to hours by dividing by 60\n",
    "minutes=200\n",
    "hours=minutes/60\n",
    "hours"
   ]
  },
  {
   "cell_type": "markdown",
   "id": "2f9b5517-e3bf-446e-b3dc-c9ddc2b3aacf",
   "metadata": {},
   "source": []
  }
 ],
 "metadata": {
  "kernelspec": {
   "display_name": "Python 3 (ipykernel)",
   "language": "python",
   "name": "python3"
  },
  "language_info": {
   "codemirror_mode": {
    "name": "ipython",
    "version": 3
   },
   "file_extension": ".py",
   "mimetype": "text/x-python",
   "name": "python",
   "nbconvert_exporter": "python",
   "pygments_lexer": "ipython3",
   "version": "3.12.7"
  }
 },
 "nbformat": 4,
 "nbformat_minor": 5
}
